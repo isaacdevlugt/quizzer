{
 "cells": [
  {
   "cell_type": "code",
   "execution_count": 20,
   "metadata": {},
   "outputs": [
    {
     "data": {
      "text/plain": [
       "{'success': False, 'message': 'Try again!'}"
      ]
     },
     "execution_count": 20,
     "metadata": {},
     "output_type": "execute_result"
    }
   ],
   "source": [
    "def evaluate(location, contents, code):\n",
    "\n",
    "    user_input = {}\n",
    "    state = {\"success\": False, \"message\": \"\"}\n",
    "    test_cases = contents[\"tests\"]\n",
    "\n",
    "\n",
    "    try:\n",
    "        exec(code, user_input)\n",
    "        func_name = list(user_input.keys())[1]\n",
    "        #correct_code = getattr(__import__(location + \".correct_code\", fromlist=[\"add\"]), \"add\")\n",
    "        for test_case in test_cases:\n",
    "            if user_input[func_name](*test_case[\"input\"]) == test_case[\"output\"]:\n",
    "                continue\n",
    "            else:\n",
    "                state[\"message\"] = \"Try again!\"\n",
    "                return state\n",
    "\n",
    "        state[\"success\"] = True\n",
    "        state[\"message\"] = \"Nice work!\"\n",
    "\n",
    "        return state\n",
    "\n",
    "    except (RuntimeError, SyntaxError) as err:\n",
    "        state[\"message\"] = str(err)\n",
    "        return state\n",
    "    \n",
    "contents = {'title': 'Add two numbers', 'tests': [{'input': [5, 4], 'output': 9}, {'input': [-2, 2], 'output': 0}]}\n",
    "code = '''\n",
    "def add(x, y):\n",
    "    return x - y\n",
    "'''\n",
    "evaluate(\"add_two_numbers\", contents, code)"
   ]
  },
  {
   "cell_type": "code",
   "execution_count": null,
   "metadata": {},
   "outputs": [],
   "source": []
  },
  {
   "cell_type": "code",
   "execution_count": null,
   "metadata": {},
   "outputs": [],
   "source": []
  }
 ],
 "metadata": {
  "kernelspec": {
   "display_name": "quizzer",
   "language": "python",
   "name": "python3"
  },
  "language_info": {
   "codemirror_mode": {
    "name": "ipython",
    "version": 3
   },
   "file_extension": ".py",
   "mimetype": "text/x-python",
   "name": "python",
   "nbconvert_exporter": "python",
   "pygments_lexer": "ipython3",
   "version": "3.10.9"
  },
  "orig_nbformat": 4
 },
 "nbformat": 4,
 "nbformat_minor": 2
}
